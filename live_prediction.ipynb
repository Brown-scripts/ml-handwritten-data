{
 "cells": [
  {
   "cell_type": "code",
   "execution_count": 7,
   "id": "11c6e9bc",
   "metadata": {},
   "outputs": [],
   "source": [
    "from PIL import Image\n",
    "import numpy as np\n",
    "import matplotlib.pyplot as plt\n",
    "import cv2"
   ]
  },
  {
   "cell_type": "code",
   "execution_count": 8,
   "id": "c2a18f24",
   "metadata": {},
   "outputs": [],
   "source": [
    "from keras.models import load_model"
   ]
  },
  {
   "cell_type": "code",
   "execution_count": 9,
   "id": "45bc0347",
   "metadata": {},
   "outputs": [],
   "source": [
    "model = load_model('hwd_model.h5')"
   ]
  },
  {
   "cell_type": "code",
   "execution_count": 10,
   "id": "77f098eb",
   "metadata": {},
   "outputs": [
    {
     "name": "stdout",
     "output_type": "stream",
     "text": [
      "test0.pngwritten!\n",
      "test1.pngwritten!\n",
      "test2.pngwritten!\n",
      "Escape hit,closing...\n"
     ]
    }
   ],
   "source": [
    "cam = cv2.VideoCapture(0)\n",
    "cv2.namedWindow(\"test\")\n",
    "\n",
    "img_counter=0\n",
    "\n",
    "while True:\n",
    "    ret,frame=cam.read()\n",
    "    if not ret:\n",
    "        print(\"failed to grab frame\")\n",
    "        break\n",
    "    cv2.imshow(\"test\",frame)\n",
    "    \n",
    "    k= cv2.waitKey(1)\n",
    "    if k%256==27:\n",
    "        #ESC pressed\n",
    "        print(\"Escape hit,closing...\")\n",
    "        break\n",
    "    elif k%256==32:\n",
    "        #space pressed\n",
    "        img_name=\"test{}.png\".format(img_counter)\n",
    "        cv2.imwrite(img_name,frame)\n",
    "        print(\"{}written!\".format(img_name))\n",
    "        img_counter +=1\n",
    "        \n",
    "cam.release()\n",
    "\n",
    "cv2.destroyAllWindows()"
   ]
  },
  {
   "cell_type": "code",
   "execution_count": 13,
   "id": "1d15d1b2",
   "metadata": {},
   "outputs": [],
   "source": [
    "def predict_image(image_data):\n",
    "    data = Image.open(image_data)\n",
    "    data = data.convert('L')\n",
    "    data = data.point(lambda x:0 if x<100 else 255)\n",
    "    data = data.save('saved_image.jpg')\n",
    "    data = cv2.imread('saved_image.jpg',cv2.IMREAD_GRAYSCALE)\n",
    "    data = cv2.bitwise_not(data)\n",
    "    data = cv2.resize(data,(28,28))\n",
    "    data = data/255\n",
    "    plt.imshow(data,cmap='gray')\n",
    "    data = data.reshape(1,28,28)\n",
    "    predict = model.predict(data)\n",
    "    predicted_class = np.argmax(predict)\n",
    "    score = np.amax(predict)\n",
    "    print(f'Prediction Report:\\nPredicted class:{predicted_class}\\nConfidence level:{score:.2%}')"
   ]
  },
  {
   "cell_type": "code",
   "execution_count": 14,
   "id": "5e6062d0",
   "metadata": {},
   "outputs": [
    {
     "name": "stdout",
     "output_type": "stream",
     "text": [
      "1/1 [==============================] - 0s 31ms/step\n",
      "Prediction Report:\n",
      "Predicted class:3\n",
      "Confidence level:100.00%\n"
     ]
    },
    {
     "data": {
      "image/png": "[encoded data removed]",
      "text/plain": [
       "<Figure size 640x480 with 1 Axes>"
      ]
     },
     "metadata": {},
     "output_type": "display_data"
    }
   ],
   "source": [
    "predict_image('test0.png')"
   ]
  },
  {
   "cell_type": "code",
   "execution_count": null,
   "id": "095b2a02",
   "metadata": {},
   "outputs": [],
   "source": []
  }
 ],
 "metadata": {
  "kernelspec": {
   "display_name": "Python 3 (ipykernel)",
   "language": "python",
   "name": "python3"
  },
  "language_info": {
   "codemirror_mode": {
    "name": "ipython",
    "version": 3
   },
   "file_extension": ".py",
   "mimetype": "text/x-python",
   "name": "python",
   "nbconvert_exporter": "python",
   "pygments_lexer": "ipython3",
   "version": "3.11.5"
  }
 },
 "nbformat": 4,
 "nbformat_minor": 5
}
